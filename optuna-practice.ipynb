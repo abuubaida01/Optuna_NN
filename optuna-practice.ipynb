{
 "cells": [
  {
   "cell_type": "code",
   "execution_count": 1,
   "id": "a1dae3d6",
   "metadata": {
    "execution": {
     "iopub.execute_input": "2022-10-02T13:56:44.750117Z",
     "iopub.status.busy": "2022-10-02T13:56:44.749557Z",
     "iopub.status.idle": "2022-10-02T13:56:46.203328Z",
     "shell.execute_reply": "2022-10-02T13:56:46.202376Z"
    },
    "papermill": {
     "duration": 1.464307,
     "end_time": "2022-10-02T13:56:46.206233",
     "exception": false,
     "start_time": "2022-10-02T13:56:44.741926",
     "status": "completed"
    },
    "tags": []
   },
   "outputs": [],
   "source": [
    "import torch \n",
    "import pandas as pd \n",
    "import numpy as np\n",
    "import torch.nn as nn\n"
   ]
  },
  {
   "cell_type": "markdown",
   "id": "741db157",
   "metadata": {
    "papermill": {
     "duration": 0.004448,
     "end_time": "2022-10-02T13:56:46.215778",
     "exception": false,
     "start_time": "2022-10-02T13:56:46.211330",
     "status": "completed"
    },
    "tags": []
   },
   "source": [
    "# **Building Dataset**"
   ]
  },
  {
   "cell_type": "code",
   "execution_count": 2,
   "id": "4e618530",
   "metadata": {
    "_cell_guid": "b1076dfc-b9ad-4769-8c92-a6c4dae69d19",
    "_uuid": "8f2839f25d086af736a60e9eeb907d3b93b6e0e5",
    "execution": {
     "iopub.execute_input": "2022-10-02T13:56:46.228068Z",
     "iopub.status.busy": "2022-10-02T13:56:46.226343Z",
     "iopub.status.idle": "2022-10-02T13:56:46.233297Z",
     "shell.execute_reply": "2022-10-02T13:56:46.232378Z"
    },
    "papermill": {
     "duration": 0.014679,
     "end_time": "2022-10-02T13:56:46.235264",
     "exception": false,
     "start_time": "2022-10-02T13:56:46.220585",
     "status": "completed"
    },
    "tags": []
   },
   "outputs": [],
   "source": [
    "class Moadataset():\n",
    "    def __init__(self, features, targets):\n",
    "        self.features = features\n",
    "        self.targets = targets \n",
    "    \n",
    "    def __len__(self):\n",
    "        # if numpy array\n",
    "        return self.features.shape[0]\n",
    "    \n",
    "    def __getitem__(self,item):\n",
    "        return {\n",
    "            'x': torch.tensor(self.features[item, :], dtype=torch.float), # will convert each row into tensor, \n",
    "            'y': torch.tensor(self.targets[item, :], dtype=torch.float)\n",
    "        }\n",
    "        "
   ]
  },
  {
   "cell_type": "code",
   "execution_count": 3,
   "id": "3b9dbc15",
   "metadata": {
    "execution": {
     "iopub.execute_input": "2022-10-02T13:56:46.245851Z",
     "iopub.status.busy": "2022-10-02T13:56:46.244398Z",
     "iopub.status.idle": "2022-10-02T13:56:58.754997Z",
     "shell.execute_reply": "2022-10-02T13:56:58.753836Z"
    },
    "papermill": {
     "duration": 12.518221,
     "end_time": "2022-10-02T13:56:58.757616",
     "exception": false,
     "start_time": "2022-10-02T13:56:46.239395",
     "status": "completed"
    },
    "tags": []
   },
   "outputs": [
    {
     "name": "stdout",
     "output_type": "stream",
     "text": [
      "Collecting iterative-stratification\r\n",
      "  Downloading iterative_stratification-0.1.7-py3-none-any.whl (8.5 kB)\r\n",
      "Requirement already satisfied: scipy in /opt/conda/lib/python3.7/site-packages (from iterative-stratification) (1.7.3)\r\n",
      "Requirement already satisfied: numpy in /opt/conda/lib/python3.7/site-packages (from iterative-stratification) (1.21.6)\r\n",
      "Requirement already satisfied: scikit-learn in /opt/conda/lib/python3.7/site-packages (from iterative-stratification) (1.0.2)\r\n",
      "Requirement already satisfied: threadpoolctl>=2.0.0 in /opt/conda/lib/python3.7/site-packages (from scikit-learn->iterative-stratification) (3.1.0)\r\n",
      "Requirement already satisfied: joblib>=0.11 in /opt/conda/lib/python3.7/site-packages (from scikit-learn->iterative-stratification) (1.0.1)\r\n",
      "Installing collected packages: iterative-stratification\r\n",
      "Successfully installed iterative-stratification-0.1.7\r\n",
      "\u001b[33mWARNING: Running pip as the 'root' user can result in broken permissions and conflicting behaviour with the system package manager. It is recommended to use a virtual environment instead: https://pip.pypa.io/warnings/venv\u001b[0m\u001b[33m\r\n",
      "\u001b[0m"
     ]
    }
   ],
   "source": [
    "!pip install iterative-stratification\n",
    "\n",
    "from iterstrat.ml_stratifiers import MultilabelStratifiedKFold\n"
   ]
  },
  {
   "cell_type": "code",
   "execution_count": 4,
   "id": "1b0b0177",
   "metadata": {
    "execution": {
     "iopub.execute_input": "2022-10-02T13:56:58.769221Z",
     "iopub.status.busy": "2022-10-02T13:56:58.768898Z",
     "iopub.status.idle": "2022-10-02T13:57:02.267249Z",
     "shell.execute_reply": "2022-10-02T13:57:02.266240Z"
    },
    "papermill": {
     "duration": 3.507099,
     "end_time": "2022-10-02T13:57:02.269995",
     "exception": false,
     "start_time": "2022-10-02T13:56:58.762896",
     "status": "completed"
    },
    "tags": []
   },
   "outputs": [],
   "source": [
    "df = pd.read_csv('../input/lish-moa/train_targets_scored.csv')\n",
    "df.loc[:, 'kfold'] = -1\n",
    "df = df.sample(frac=1).reset_index(drop = True)\n",
    "\n",
    "targets = df.drop(\"sig_id\", axis=1).values\n",
    "mskf = MultilabelStratifiedKFold(n_splits = 5)\n",
    "\n",
    "for fold, (trn, val) in enumerate(mskf.split(X=df, y=targets)):\n",
    "    df.loc[val, 'kfold'] = fold\n",
    "\n",
    "df.to_csv('new_df', index = False)\n",
    "\n"
   ]
  },
  {
   "cell_type": "code",
   "execution_count": 5,
   "id": "3add573d",
   "metadata": {
    "execution": {
     "iopub.execute_input": "2022-10-02T13:57:02.282132Z",
     "iopub.status.busy": "2022-10-02T13:57:02.280661Z",
     "iopub.status.idle": "2022-10-02T13:57:07.612796Z",
     "shell.execute_reply": "2022-10-02T13:57:07.611301Z"
    },
    "papermill": {
     "duration": 5.340066,
     "end_time": "2022-10-02T13:57:07.614939",
     "exception": false,
     "start_time": "2022-10-02T13:57:02.274873",
     "status": "completed"
    },
    "tags": []
   },
   "outputs": [
    {
     "name": "stderr",
     "output_type": "stream",
     "text": [
      "/opt/conda/lib/python3.7/site-packages/torch/utils/data/dataloader.py:490: UserWarning: This DataLoader will create 4 worker processes in total. Our suggested max number of worker in current system is 2, which is smaller than what this DataLoader is going to create. Please be aware that excessive worker creation might get DataLoader running slow or even freeze, lower the worker number to avoid potential slowness/freeze if necessary.\n",
      "  cpuset_checked))\n"
     ]
    }
   ],
   "source": [
    "df = pd.read_csv('../input/lish-moa/train_features.csv')\n",
    "# let's remove cat col, so that I don't need to transform them\n",
    "df = df.drop(['cp_type', 'cp_time', 'cp_dose'], axis = 1)\n",
    "\n",
    "targets_df = pd.read_csv('new_df') \n",
    "\n",
    "feature_columns = df.drop('sig_id', axis=1).columns\n",
    "target_columns = targets_df.drop(['sig_id', 'kfold'], axis=1).columns\n",
    "\n",
    "\n",
    "# let's merge them \n",
    "df = df.merge(targets_df, on='sig_id', how= 'left')\n",
    "# print(df.head())\n",
    "\n",
    "# splitting data \n",
    "train_df = df[df.kfold != fold].reset_index(drop=True)\n",
    "valid_df = df[df.kfold == fold].reset_index(drop=True)\n",
    "\n",
    "# train test split\n",
    "x_train = train_df[feature_columns].to_numpy()\n",
    "y_train = train_df[target_columns].to_numpy()\n",
    "\n",
    "x_valid = valid_df[feature_columns].to_numpy()\n",
    "y_valid = valid_df[target_columns].to_numpy()\n",
    "\n",
    "# let's create dataLoader\n",
    "train_dataset = Moadataset(features=x_train, targets=y_train)\n",
    "valid_dataset = Moadataset(features=x_valid, targets=y_valid)\n",
    "\n",
    "train_loader = torch.utils.data.DataLoader(train_dataset, batch_size=1024, num_workers=4, shuffle = True)\n",
    "valid_loader = torch.utils.data.DataLoader(valid_dataset, batch_size=1024, num_workers=4, shuffle = True)\n",
    "\n",
    "\n",
    "\n",
    "\n",
    "\n"
   ]
  },
  {
   "cell_type": "markdown",
   "id": "e1caf0e2",
   "metadata": {
    "papermill": {
     "duration": 0.004407,
     "end_time": "2022-10-02T13:57:07.624116",
     "exception": false,
     "start_time": "2022-10-02T13:57:07.619709",
     "status": "completed"
    },
    "tags": []
   },
   "source": [
    "# Engine Class\n"
   ]
  },
  {
   "cell_type": "code",
   "execution_count": 6,
   "id": "74e71b72",
   "metadata": {
    "execution": {
     "iopub.execute_input": "2022-10-02T13:57:07.634548Z",
     "iopub.status.busy": "2022-10-02T13:57:07.634240Z",
     "iopub.status.idle": "2022-10-02T13:57:07.644107Z",
     "shell.execute_reply": "2022-10-02T13:57:07.643243Z"
    },
    "papermill": {
     "duration": 0.017256,
     "end_time": "2022-10-02T13:57:07.646004",
     "exception": false,
     "start_time": "2022-10-02T13:57:07.628748",
     "status": "completed"
    },
    "tags": []
   },
   "outputs": [],
   "source": [
    "class Engine:\n",
    "    def __init__(self, model, optimizer, device):\n",
    "        self.model = model\n",
    "        self.device = device \n",
    "        self.optimizer = optimizer\n",
    "        \n",
    "        \n",
    "    @staticmethod\n",
    "    def loss_fn(targets, outputs):\n",
    "        return torch.nn.BCEWithLogitsLoss()(outputs, targets)\n",
    "    \n",
    "    def train(self, data_loader):\n",
    "        self.model.train()\n",
    "        final_loss = 0\n",
    "        for data in data_loader:\n",
    "            self.optimizer.zero_grad()\n",
    "            input = data['x'].to(self.device)\n",
    "            targets = data['y'].to(self.device)\n",
    "            outputs = self.model(input)\n",
    "            loss = self.loss_fn(targets, outputs)\n",
    "            loss.backward()\n",
    "            self.optimizer.step()\n",
    "            final_loss += loss.item()\n",
    "        return final_loss/len(data_loader)\n",
    "    \n",
    "    def evaluate(self, data_loader):\n",
    "        self.model.eval()\n",
    "        final_loss = 0\n",
    "        for data in data_loader:\n",
    "#             self.optimizer.zero_grad()\n",
    "            input = data['x'].to(self.device)\n",
    "            targets = data['y'].to(self.device)\n",
    "            outputs = self.model(input)\n",
    "            loss = self.loss_fn(targets, outputs)\n",
    "#             loss.backward()\n",
    "#             self.optimzer.step()\n",
    "            final_loss += loss.item()\n",
    "        return final_loss/len(data_loader)\n",
    "    \n",
    "   \n",
    "    \n",
    "    "
   ]
  },
  {
   "cell_type": "markdown",
   "id": "9fc0440e",
   "metadata": {
    "papermill": {
     "duration": 0.004364,
     "end_time": "2022-10-02T13:57:07.655047",
     "exception": false,
     "start_time": "2022-10-02T13:57:07.650683",
     "status": "completed"
    },
    "tags": []
   },
   "source": [
    "# "
   ]
  },
  {
   "cell_type": "markdown",
   "id": "8bd25675",
   "metadata": {
    "papermill": {
     "duration": 0.004241,
     "end_time": "2022-10-02T13:57:07.663894",
     "exception": false,
     "start_time": "2022-10-02T13:57:07.659653",
     "status": "completed"
    },
    "tags": []
   },
   "source": [
    "# **Model**"
   ]
  },
  {
   "cell_type": "code",
   "execution_count": 7,
   "id": "c3ef572d",
   "metadata": {
    "execution": {
     "iopub.execute_input": "2022-10-02T13:57:07.674164Z",
     "iopub.status.busy": "2022-10-02T13:57:07.673855Z",
     "iopub.status.idle": "2022-10-02T13:57:07.681335Z",
     "shell.execute_reply": "2022-10-02T13:57:07.680389Z"
    },
    "papermill": {
     "duration": 0.014878,
     "end_time": "2022-10-02T13:57:07.683287",
     "exception": false,
     "start_time": "2022-10-02T13:57:07.668409",
     "status": "completed"
    },
    "tags": []
   },
   "outputs": [],
   "source": [
    "class Model(nn.Module):\n",
    "    def __init__(self, nfeatures, ntargets, nlayers, hidden_size, dropout):\n",
    "        super().__init__()\n",
    "        layers = []\n",
    "        for _ in range(nlayers):\n",
    "            if len(layers)==0:\n",
    "                layers.append(nn.Linear(nfeatures, hidden_size))\n",
    "                layers.append(nn.BatchNorm1d(hidden_size))\n",
    "                layers.append(nn.Dropout(dropout))\n",
    "                layers.append(nn.ReLU())\n",
    "            else:\n",
    "                layers.append(nn.Linear(hidden_size, hidden_size))\n",
    "                layers.append(nn.BatchNorm1d(hidden_size))\n",
    "                layers.append(nn.Dropout(dropout))\n",
    "                layers.append(nn.ReLU())\n",
    "        layers.append(nn.Linear(hidden_size, ntargets))\n",
    "        \n",
    "        self.model = nn.Sequential(*layers)\n",
    "    \n",
    "    def forward(self, x):\n",
    "        return self.model(x)\n",
    "    \n",
    "    "
   ]
  },
  {
   "cell_type": "code",
   "execution_count": 8,
   "id": "4ff44114",
   "metadata": {
    "execution": {
     "iopub.execute_input": "2022-10-02T13:57:07.693325Z",
     "iopub.status.busy": "2022-10-02T13:57:07.693068Z",
     "iopub.status.idle": "2022-10-02T13:57:07.700387Z",
     "shell.execute_reply": "2022-10-02T13:57:07.699506Z"
    },
    "papermill": {
     "duration": 0.014614,
     "end_time": "2022-10-02T13:57:07.702448",
     "exception": false,
     "start_time": "2022-10-02T13:57:07.687834",
     "status": "completed"
    },
    "tags": []
   },
   "outputs": [
    {
     "data": {
      "text/plain": [
       "(19051, 206)"
      ]
     },
     "execution_count": 8,
     "metadata": {},
     "output_type": "execute_result"
    }
   ],
   "source": [
    "x_train.shape\n",
    "y_train.shape\n"
   ]
  },
  {
   "cell_type": "code",
   "execution_count": 9,
   "id": "32198c00",
   "metadata": {
    "execution": {
     "iopub.execute_input": "2022-10-02T13:57:07.714067Z",
     "iopub.status.busy": "2022-10-02T13:57:07.713180Z",
     "iopub.status.idle": "2022-10-02T13:57:07.717591Z",
     "shell.execute_reply": "2022-10-02T13:57:07.716704Z"
    },
    "papermill": {
     "duration": 0.011749,
     "end_time": "2022-10-02T13:57:07.719606",
     "exception": false,
     "start_time": "2022-10-02T13:57:07.707857",
     "status": "completed"
    },
    "tags": []
   },
   "outputs": [],
   "source": [
    "DEVICE = 'cuda'\n",
    "EPOCHS = 20"
   ]
  },
  {
   "cell_type": "markdown",
   "id": "8355b980",
   "metadata": {
    "papermill": {
     "duration": 0.004448,
     "end_time": "2022-10-02T13:57:07.728593",
     "exception": false,
     "start_time": "2022-10-02T13:57:07.724145",
     "status": "completed"
    },
    "tags": []
   },
   "source": [
    "# **Trainer**"
   ]
  },
  {
   "cell_type": "code",
   "execution_count": 10,
   "id": "248e8ecf",
   "metadata": {
    "_kg_hide-output": true,
    "execution": {
     "iopub.execute_input": "2022-10-02T13:57:07.738725Z",
     "iopub.status.busy": "2022-10-02T13:57:07.738422Z",
     "iopub.status.idle": "2022-10-02T13:57:07.746201Z",
     "shell.execute_reply": "2022-10-02T13:57:07.745194Z"
    },
    "papermill": {
     "duration": 0.015229,
     "end_time": "2022-10-02T13:57:07.748333",
     "exception": false,
     "start_time": "2022-10-02T13:57:07.733104",
     "status": "completed"
    },
    "tags": []
   },
   "outputs": [],
   "source": [
    "#  model = Model(\n",
    "#     nfeatures = x_train.shape[1],\n",
    "#     ntargets = y_train.shape[1] , \n",
    "#     nlayers = 2, \n",
    "#     hidden_size = 128,\n",
    "#     dropout = 0.3\n",
    "#     )\n",
    "\n",
    "\n",
    "def trainer(save_model, params): \n",
    "    # if you want to tune model parameter, then use them as parameters\n",
    "    model = Model(\n",
    "        nfeatures = x_train.shape[1],\n",
    "        ntargets = y_train.shape[1] , \n",
    "        nlayers = params['num_layers'], \n",
    "        hidden_size = params['hidden_size'],\n",
    "        dropout = params['dropout']\n",
    "        )\n",
    "\n",
    "    \n",
    "    model.to(DEVICE)\n",
    "    optimizer = torch.optim.Adam(model.parameters(), lr=params['learning_rate'])\n",
    "    save_model = save_model\n",
    "    eng = Engine(model, optimizer, DEVICE)\n",
    "    best_loss = np.inf\n",
    "    early_stopping_iter = 10\n",
    "    early_stopping_counter = 0\n",
    "\n",
    "    for epoch in range(EPOCHS):\n",
    "        train_loss = eng.train(train_loader)\n",
    "        valid_loss = eng.evaluate(valid_loader)\n",
    "        print(f'{epoch}, Training Loss = {train_loss}, Validation Loss = {valid_loss}')\n",
    "        if valid_loss < best_loss:\n",
    "            best_loss = valid_loss\n",
    "            if save_model:\n",
    "                torch.save(model.state_dict(), f'model_{fold}.min')\n",
    "        else:\n",
    "            early_stopping_counter +=1 \n",
    "    \n",
    "        if early_stopping_counter > early_stopping_iter:\n",
    "            print('Need to stop!')\n",
    "            break\n",
    "    return best_loss\n",
    "    \n",
    "# trainer()\n",
    "    "
   ]
  },
  {
   "cell_type": "markdown",
   "id": "53fb3d33",
   "metadata": {
    "papermill": {
     "duration": 0.004354,
     "end_time": "2022-10-02T13:57:07.757278",
     "exception": false,
     "start_time": "2022-10-02T13:57:07.752924",
     "status": "completed"
    },
    "tags": []
   },
   "source": [
    "# Opimization by ***OPTUNA***"
   ]
  },
  {
   "cell_type": "code",
   "execution_count": 11,
   "id": "d9acf898",
   "metadata": {
    "execution": {
     "iopub.execute_input": "2022-10-02T13:57:07.767353Z",
     "iopub.status.busy": "2022-10-02T13:57:07.767099Z",
     "iopub.status.idle": "2022-10-02T13:57:07.939599Z",
     "shell.execute_reply": "2022-10-02T13:57:07.938678Z"
    },
    "papermill": {
     "duration": 0.180334,
     "end_time": "2022-10-02T13:57:07.942162",
     "exception": false,
     "start_time": "2022-10-02T13:57:07.761828",
     "status": "completed"
    },
    "tags": []
   },
   "outputs": [],
   "source": [
    "import optuna"
   ]
  },
  {
   "cell_type": "code",
   "execution_count": 12,
   "id": "ab6ac2c9",
   "metadata": {
    "execution": {
     "iopub.execute_input": "2022-10-02T13:57:07.953565Z",
     "iopub.status.busy": "2022-10-02T13:57:07.952698Z",
     "iopub.status.idle": "2022-10-02T13:57:07.959690Z",
     "shell.execute_reply": "2022-10-02T13:57:07.958814Z"
    },
    "papermill": {
     "duration": 0.01475,
     "end_time": "2022-10-02T13:57:07.961706",
     "exception": false,
     "start_time": "2022-10-02T13:57:07.946956",
     "status": "completed"
    },
    "tags": []
   },
   "outputs": [],
   "source": [
    "def objective(trial):\n",
    "    # every time when object is called these params are created \n",
    "    params = {\n",
    "        'num_layers': trial.suggest_int('num_layer', 1, 7),\n",
    "        'hidden_size': trial.suggest_int('hidden_size', 16, 2048), \n",
    "        'dropout': trial.suggest_float('dropout', 0.1, 0.7),\n",
    "        'learning_rate': trial.suggest_float('learning_rate', 1e-6, 1e-3, log=True)        \n",
    "    }\n",
    "    \n",
    "    best_loss = trainer(save_model=False, params=params)\n",
    "    \n",
    "    return best_loss\n",
    "\n",
    "#     all_losses = [] \n",
    "#     for f_ in range(1):\n",
    "#         # we need to add params into trainer parameter\n",
    "#         temp_loss = trainer(save_model = False, params=params)\n",
    "#         all_losses.append(temp_loss)\n",
    "#     return np.mean(all_losses)\n",
    "        "
   ]
  },
  {
   "cell_type": "code",
   "execution_count": 13,
   "id": "6c3d3cf4",
   "metadata": {
    "execution": {
     "iopub.execute_input": "2022-10-02T13:57:07.972687Z",
     "iopub.status.busy": "2022-10-02T13:57:07.971870Z",
     "iopub.status.idle": "2022-10-02T13:58:32.578894Z",
     "shell.execute_reply": "2022-10-02T13:58:32.577857Z"
    },
    "papermill": {
     "duration": 84.61473,
     "end_time": "2022-10-02T13:58:32.581094",
     "exception": false,
     "start_time": "2022-10-02T13:57:07.966364",
     "status": "completed"
    },
    "tags": []
   },
   "outputs": [
    {
     "name": "stderr",
     "output_type": "stream",
     "text": [
      "\u001b[32m[I 2022-10-02 13:57:07,975]\u001b[0m A new study created in memory with name: no-name-28f59893-d887-403c-ba7b-0f7beac326db\u001b[0m\n"
     ]
    },
    {
     "name": "stdout",
     "output_type": "stream",
     "text": [
      "0, Training Loss = 0.7189988682144567, Validation Loss = 0.6872542381286622\n",
      "1, Training Loss = 0.7055709079692238, Validation Loss = 0.6838765859603881\n",
      "2, Training Loss = 0.6922811081534938, Validation Loss = 0.6805537104606628\n",
      "3, Training Loss = 0.6792391475878263, Validation Loss = 0.677022910118103\n",
      "4, Training Loss = 0.6662536890883195, Validation Loss = 0.672495698928833\n",
      "5, Training Loss = 0.6533696243637487, Validation Loss = 0.6675014853477478\n",
      "6, Training Loss = 0.6401826551086024, Validation Loss = 0.661819314956665\n",
      "7, Training Loss = 0.6267094706234179, Validation Loss = 0.6551522254943848\n",
      "8, Training Loss = 0.613229513168335, Validation Loss = 0.6477950930595398\n",
      "9, Training Loss = 0.5995293510587592, Validation Loss = 0.6396161198616028\n",
      "10, Training Loss = 0.5859962043009306, Validation Loss = 0.6314927458763122\n",
      "11, Training Loss = 0.5723913594296104, Validation Loss = 0.6223288536071777\n",
      "12, Training Loss = 0.5591604646883512, Validation Loss = 0.6131049513816833\n",
      "13, Training Loss = 0.5460790113398903, Validation Loss = 0.6036311268806458\n",
      "14, Training Loss = 0.5329850974835848, Validation Loss = 0.5940156698226928\n",
      "15, Training Loss = 0.5203449161429154, Validation Loss = 0.5844731092453003\n",
      "16, Training Loss = 0.5082159387437921, Validation Loss = 0.574565589427948\n",
      "17, Training Loss = 0.4961905761768943, Validation Loss = 0.5652484059333801\n",
      "18, Training Loss = 0.4847723120137265, Validation Loss = 0.5554574131965637\n"
     ]
    },
    {
     "name": "stderr",
     "output_type": "stream",
     "text": [
      "\u001b[32m[I 2022-10-02 13:57:42,355]\u001b[0m Trial 0 finished with value: 0.5460810542106629 and parameters: {'num_layer': 7, 'hidden_size': 1940, 'dropout': 0.3774623019864146, 'learning_rate': 2.168595742915985e-06}. Best is trial 0 with value: 0.5460810542106629.\u001b[0m\n"
     ]
    },
    {
     "name": "stdout",
     "output_type": "stream",
     "text": [
      "19, Training Loss = 0.4732854632954848, Validation Loss = 0.5460810542106629\n",
      "0, Training Loss = 0.28581757098436356, Validation Loss = 0.08135872334241867\n",
      "1, Training Loss = 0.04181105349408953, Validation Loss = 0.028835994750261308\n",
      "2, Training Loss = 0.025175466741386213, Validation Loss = 0.022620395198464392\n",
      "3, Training Loss = 0.02203349886756194, Validation Loss = 0.0204740971326828\n",
      "4, Training Loss = 0.0205446652283794, Validation Loss = 0.01950938142836094\n",
      "5, Training Loss = 0.01963704246047296, Validation Loss = 0.01894281469285488\n",
      "6, Training Loss = 0.01891429526241202, Validation Loss = 0.018336814641952515\n",
      "7, Training Loss = 0.0183315880008434, Validation Loss = 0.01796785406768322\n",
      "8, Training Loss = 0.017859198937290592, Validation Loss = 0.017787068709731103\n",
      "9, Training Loss = 0.01744995570104373, Validation Loss = 0.01745774783194065\n",
      "10, Training Loss = 0.017065516329909627, Validation Loss = 0.017284632474184037\n",
      "11, Training Loss = 0.01675003188613214, Validation Loss = 0.017096084356307984\n",
      "12, Training Loss = 0.016395637226340017, Validation Loss = 0.0169703409075737\n",
      "13, Training Loss = 0.016119800557039286, Validation Loss = 0.0168575007468462\n",
      "14, Training Loss = 0.015840982332041387, Validation Loss = 0.016589309461414813\n",
      "15, Training Loss = 0.015584849213298998, Validation Loss = 0.016569319367408752\n",
      "16, Training Loss = 0.01533543926320578, Validation Loss = 0.01648707129061222\n",
      "17, Training Loss = 0.01508727963817747, Validation Loss = 0.016375810280442236\n",
      "18, Training Loss = 0.014854270621742072, Validation Loss = 0.016312403604388237\n"
     ]
    },
    {
     "name": "stderr",
     "output_type": "stream",
     "text": [
      "\u001b[32m[I 2022-10-02 13:58:06,870]\u001b[0m Trial 1 finished with value: 0.016178210824728013 and parameters: {'num_layer': 1, 'hidden_size': 714, 'dropout': 0.593033091832533, 'learning_rate': 0.000723125746087448}. Best is trial 1 with value: 0.016178210824728013.\u001b[0m\n"
     ]
    },
    {
     "name": "stdout",
     "output_type": "stream",
     "text": [
      "19, Training Loss = 0.01463868174897997, Validation Loss = 0.016178210824728013\n",
      "0, Training Loss = 0.4603151851578763, Validation Loss = 0.3854027628898621\n",
      "1, Training Loss = 0.14178135010756945, Validation Loss = 0.061428947001695634\n",
      "2, Training Loss = 0.05127113881079774, Validation Loss = 0.025505777448415756\n",
      "3, Training Loss = 0.03180726588164505, Validation Loss = 0.025711993128061293\n",
      "4, Training Loss = 0.026972919310394087, Validation Loss = 0.02515690103173256\n",
      "5, Training Loss = 0.024810072426733217, Validation Loss = 0.02386394664645195\n",
      "6, Training Loss = 0.023447635436528606, Validation Loss = 0.022644463554024698\n",
      "7, Training Loss = 0.022512738641939666, Validation Loss = 0.021982625126838684\n",
      "8, Training Loss = 0.021835161078917354, Validation Loss = 0.02145630493760109\n",
      "9, Training Loss = 0.021339028191409613, Validation Loss = 0.020905207470059396\n",
      "10, Training Loss = 0.020945766744645017, Validation Loss = 0.020675623789429665\n",
      "11, Training Loss = 0.020642005691402836, Validation Loss = 0.020367641374468802\n",
      "12, Training Loss = 0.020399946327272215, Validation Loss = 0.020227475091814995\n",
      "13, Training Loss = 0.020224380159848614, Validation Loss = 0.01997772790491581\n",
      "14, Training Loss = 0.020115459631932408, Validation Loss = 0.019796574115753175\n",
      "15, Training Loss = 0.019904989651159236, Validation Loss = 0.01969318687915802\n",
      "16, Training Loss = 0.019776434000385434, Validation Loss = 0.019551647081971168\n",
      "17, Training Loss = 0.019675452556265027, Validation Loss = 0.019518295675516127\n",
      "18, Training Loss = 0.019530511216113444, Validation Loss = 0.019390206784009933\n"
     ]
    },
    {
     "name": "stderr",
     "output_type": "stream",
     "text": [
      "\u001b[32m[I 2022-10-02 13:58:32,569]\u001b[0m Trial 2 finished with value: 0.01921963021159172 and parameters: {'num_layer': 7, 'hidden_size': 259, 'dropout': 0.11008616593844459, 'learning_rate': 0.0007582451772237903}. Best is trial 1 with value: 0.016178210824728013.\u001b[0m\n"
     ]
    },
    {
     "name": "stdout",
     "output_type": "stream",
     "text": [
      "19, Training Loss = 0.019454110217721837, Validation Loss = 0.01921963021159172\n",
      "Best trial:\n",
      "  Value:  0.016178210824728013\n",
      "  Params: \n",
      "    num_layer: 1\n",
      "    hidden_size: 714\n",
      "    dropout: 0.593033091832533\n",
      "    learning_rate: 0.000723125746087448\n"
     ]
    }
   ],
   "source": [
    "study = optuna.create_study(direction = 'minimize') # direction, minimizing the loss, (or maximizing the Profit if do)\n",
    "study.optimize(objective, n_trials=3)\n",
    "\n",
    "\n",
    "print(\"Best trial:\")\n",
    "trial = study.best_trial\n",
    "\n",
    "print(\"  Value: \", trial.value)\n",
    "\n",
    "print(\"  Params: \")\n",
    "for key, value in trial.params.items():\n",
    "    print(\"    {}: {}\".format(key, value))\n",
    "\n"
   ]
  },
  {
   "cell_type": "code",
   "execution_count": null,
   "id": "247ee280",
   "metadata": {
    "papermill": {
     "duration": 0.00785,
     "end_time": "2022-10-02T13:58:32.597048",
     "exception": false,
     "start_time": "2022-10-02T13:58:32.589198",
     "status": "completed"
    },
    "tags": []
   },
   "outputs": [],
   "source": []
  },
  {
   "cell_type": "code",
   "execution_count": null,
   "id": "2915c650",
   "metadata": {
    "papermill": {
     "duration": 0.007444,
     "end_time": "2022-10-02T13:58:32.612299",
     "exception": false,
     "start_time": "2022-10-02T13:58:32.604855",
     "status": "completed"
    },
    "tags": []
   },
   "outputs": [],
   "source": []
  },
  {
   "cell_type": "code",
   "execution_count": null,
   "id": "c8728e96",
   "metadata": {
    "papermill": {
     "duration": 0.007629,
     "end_time": "2022-10-02T13:58:32.627661",
     "exception": false,
     "start_time": "2022-10-02T13:58:32.620032",
     "status": "completed"
    },
    "tags": []
   },
   "outputs": [],
   "source": []
  }
 ],
 "metadata": {
  "kernelspec": {
   "display_name": "Python 3",
   "language": "python",
   "name": "python3"
  },
  "language_info": {
   "codemirror_mode": {
    "name": "ipython",
    "version": 3
   },
   "file_extension": ".py",
   "mimetype": "text/x-python",
   "name": "python",
   "nbconvert_exporter": "python",
   "pygments_lexer": "ipython3",
   "version": "3.7.12"
  },
  "papermill": {
   "default_parameters": {},
   "duration": 117.159196,
   "end_time": "2022-10-02T13:58:33.858230",
   "environment_variables": {},
   "exception": null,
   "input_path": "__notebook__.ipynb",
   "output_path": "__notebook__.ipynb",
   "parameters": {},
   "start_time": "2022-10-02T13:56:36.699034",
   "version": "2.3.4"
  }
 },
 "nbformat": 4,
 "nbformat_minor": 5
}
